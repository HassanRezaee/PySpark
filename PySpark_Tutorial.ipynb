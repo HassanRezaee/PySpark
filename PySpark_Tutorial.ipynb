{
 "cells": [
  {
   "cell_type": "code",
   "execution_count": 1,
   "id": "b3fbf0e6",
   "metadata": {},
   "outputs": [],
   "source": [
    "import pyspark\n",
    "import opendatasets as od\n",
    "import os\n",
    "import pandas as pd\n",
    "import numpy as np"
   ]
  },
  {
   "cell_type": "code",
   "execution_count": 2,
   "id": "ef8a062c",
   "metadata": {},
   "outputs": [
    {
     "name": "stdout",
     "output_type": "stream",
     "text": [
      "Skipping, found downloaded files in \".\\iris\" (use force=True to force download)\n"
     ]
    }
   ],
   "source": [
    "data = od.download(\"https://www.kaggle.com/uciml/iris?select=Iris.csv\")\n",
    "data_dir = '.\\iris'\n",
    "data = os.listdir(data_dir)\n",
    "data_df = pd.read_csv('iris/Iris.csv')\n",
    "data = np.array(data_df)\n",
    "X = data[:,1:5]\n",
    "y = data[:,5]"
   ]
  },
  {
   "cell_type": "markdown",
   "id": "3da7ed7f",
   "metadata": {},
   "source": [
    "### To work with PySpark you have to start a Spark session"
   ]
  },
  {
   "cell_type": "code",
   "execution_count": 3,
   "id": "49f35d17",
   "metadata": {},
   "outputs": [],
   "source": [
    "from pyspark.sql import SparkSession"
   ]
  },
  {
   "cell_type": "code",
   "execution_count": 4,
   "id": "08ecfa23",
   "metadata": {},
   "outputs": [],
   "source": [
    "spark = SparkSession.builder.appName('Practise').getOrCreate()"
   ]
  },
  {
   "cell_type": "code",
   "execution_count": 5,
   "id": "0eb1cda3",
   "metadata": {},
   "outputs": [
    {
     "data": {
      "text/html": [
       "\n",
       "            <div>\n",
       "                <p><b>SparkSession - in-memory</b></p>\n",
       "                \n",
       "        <div>\n",
       "            <p><b>SparkContext</b></p>\n",
       "\n",
       "            <p><a href=\"http://Koala.mshome.net:4040\">Spark UI</a></p>\n",
       "\n",
       "            <dl>\n",
       "              <dt>Version</dt>\n",
       "                <dd><code>v3.2.0</code></dd>\n",
       "              <dt>Master</dt>\n",
       "                <dd><code>local[*]</code></dd>\n",
       "              <dt>AppName</dt>\n",
       "                <dd><code>Practise</code></dd>\n",
       "            </dl>\n",
       "        </div>\n",
       "        \n",
       "            </div>\n",
       "        "
      ],
      "text/plain": [
       "<pyspark.sql.session.SparkSession at 0x121ca7a35b0>"
      ]
     },
     "execution_count": 5,
     "metadata": {},
     "output_type": "execute_result"
    }
   ],
   "source": [
    "spark"
   ]
  },
  {
   "cell_type": "code",
   "execution_count": 16,
   "id": "4b62ec84",
   "metadata": {},
   "outputs": [
    {
     "name": "stdout",
     "output_type": "stream",
     "text": [
      "+---+-------------+------------+-------------+------------+-----------+\n",
      "| Id|SepalLengthCm|SepalWidthCm|PetalLengthCm|PetalWidthCm|    Species|\n",
      "+---+-------------+------------+-------------+------------+-----------+\n",
      "|  1|          5.1|         3.5|          1.4|         0.2|Iris-setosa|\n",
      "|  2|          4.9|         3.0|          1.4|         0.2|Iris-setosa|\n",
      "|  3|          4.7|         3.2|          1.3|         0.2|Iris-setosa|\n",
      "|  4|          4.6|         3.1|          1.5|         0.2|Iris-setosa|\n",
      "|  5|          5.0|         3.6|          1.4|         0.2|Iris-setosa|\n",
      "|  6|          5.4|         3.9|          1.7|         0.4|Iris-setosa|\n",
      "|  7|          4.6|         3.4|          1.4|         0.3|Iris-setosa|\n",
      "|  8|          5.0|         3.4|          1.5|         0.2|Iris-setosa|\n",
      "|  9|          4.4|         2.9|          1.4|         0.2|Iris-setosa|\n",
      "| 10|          4.9|         3.1|          1.5|         0.1|Iris-setosa|\n",
      "| 11|          5.4|         3.7|          1.5|         0.2|Iris-setosa|\n",
      "| 12|          4.8|         3.4|          1.6|         0.2|Iris-setosa|\n",
      "| 13|          4.8|         3.0|          1.4|         0.1|Iris-setosa|\n",
      "| 14|          4.3|         3.0|          1.1|         0.1|Iris-setosa|\n",
      "| 15|          5.8|         4.0|          1.2|         0.2|Iris-setosa|\n",
      "| 16|          5.7|         4.4|          1.5|         0.4|Iris-setosa|\n",
      "| 17|          5.4|         3.9|          1.3|         0.4|Iris-setosa|\n",
      "| 18|          5.1|         3.5|          1.4|         0.3|Iris-setosa|\n",
      "| 19|          5.7|         3.8|          1.7|         0.3|Iris-setosa|\n",
      "| 20|          5.1|         3.8|          1.5|         0.3|Iris-setosa|\n",
      "+---+-------------+------------+-------------+------------+-----------+\n",
      "only showing top 20 rows\n",
      "\n"
     ]
    }
   ],
   "source": [
    "df_pyspark = spark.read.option('header', 'true').csv('iris/Iris.csv', inferSchema=True)\n",
    "df_pyspark.show()"
   ]
  },
  {
   "cell_type": "code",
   "execution_count": 17,
   "id": "3544990c",
   "metadata": {},
   "outputs": [
    {
     "data": {
      "text/plain": [
       "pyspark.sql.dataframe.DataFrame"
      ]
     },
     "execution_count": 17,
     "metadata": {},
     "output_type": "execute_result"
    }
   ],
   "source": [
    "type(df_pyspark)"
   ]
  },
  {
   "cell_type": "code",
   "execution_count": 23,
   "id": "642c6a34",
   "metadata": {},
   "outputs": [
    {
     "data": {
      "text/plain": [
       "[Row(Id=1, SepalLengthCm=5.1, SepalWidthCm=3.5, PetalLengthCm=1.4, PetalWidthCm=0.2, Species='Iris-setosa'),\n",
       " Row(Id=2, SepalLengthCm=4.9, SepalWidthCm=3.0, PetalLengthCm=1.4, PetalWidthCm=0.2, Species='Iris-setosa')]"
      ]
     },
     "execution_count": 23,
     "metadata": {},
     "output_type": "execute_result"
    }
   ],
   "source": [
    "df_pyspark.head(2)"
   ]
  },
  {
   "cell_type": "code",
   "execution_count": 19,
   "id": "f5f748f1",
   "metadata": {},
   "outputs": [
    {
     "data": {
      "text/plain": [
       "<bound method DataFrame.printSchema of DataFrame[Id: int, SepalLengthCm: double, SepalWidthCm: double, PetalLengthCm: double, PetalWidthCm: double, Species: string]>"
      ]
     },
     "execution_count": 19,
     "metadata": {},
     "output_type": "execute_result"
    }
   ],
   "source": [
    "df_pyspark.printSchema"
   ]
  },
  {
   "cell_type": "markdown",
   "id": "4abd0efc",
   "metadata": {},
   "source": [
    "### Selecting columns"
   ]
  },
  {
   "cell_type": "code",
   "execution_count": 21,
   "id": "6d52ae84",
   "metadata": {},
   "outputs": [
    {
     "data": {
      "text/plain": [
       "['Id',\n",
       " 'SepalLengthCm',\n",
       " 'SepalWidthCm',\n",
       " 'PetalLengthCm',\n",
       " 'PetalWidthCm',\n",
       " 'Species']"
      ]
     },
     "execution_count": 21,
     "metadata": {},
     "output_type": "execute_result"
    }
   ],
   "source": [
    "df_pyspark.columns"
   ]
  },
  {
   "cell_type": "code",
   "execution_count": 26,
   "id": "f9145912",
   "metadata": {
    "scrolled": true
   },
   "outputs": [
    {
     "name": "stdout",
     "output_type": "stream",
     "text": [
      "+-------------+\n",
      "|SepalLengthCm|\n",
      "+-------------+\n",
      "|          5.1|\n",
      "|          4.9|\n",
      "|          4.7|\n",
      "|          4.6|\n",
      "|          5.0|\n",
      "|          5.4|\n",
      "|          4.6|\n",
      "|          5.0|\n",
      "|          4.4|\n",
      "|          4.9|\n",
      "|          5.4|\n",
      "|          4.8|\n",
      "|          4.8|\n",
      "|          4.3|\n",
      "|          5.8|\n",
      "|          5.7|\n",
      "|          5.4|\n",
      "|          5.1|\n",
      "|          5.7|\n",
      "|          5.1|\n",
      "+-------------+\n",
      "only showing top 20 rows\n",
      "\n"
     ]
    }
   ],
   "source": [
    "df_pyspark.select('SepalLengthCm').show()"
   ]
  },
  {
   "cell_type": "code",
   "execution_count": 28,
   "id": "f0441312",
   "metadata": {
    "scrolled": true
   },
   "outputs": [
    {
     "name": "stdout",
     "output_type": "stream",
     "text": [
      "+-------------+------------+\n",
      "|SepalLengthCm|SepalWidthCm|\n",
      "+-------------+------------+\n",
      "|          5.1|         3.5|\n",
      "|          4.9|         3.0|\n",
      "|          4.7|         3.2|\n",
      "|          4.6|         3.1|\n",
      "|          5.0|         3.6|\n",
      "|          5.4|         3.9|\n",
      "|          4.6|         3.4|\n",
      "|          5.0|         3.4|\n",
      "|          4.4|         2.9|\n",
      "|          4.9|         3.1|\n",
      "|          5.4|         3.7|\n",
      "|          4.8|         3.4|\n",
      "|          4.8|         3.0|\n",
      "|          4.3|         3.0|\n",
      "|          5.8|         4.0|\n",
      "|          5.7|         4.4|\n",
      "|          5.4|         3.9|\n",
      "|          5.1|         3.5|\n",
      "|          5.7|         3.8|\n",
      "|          5.1|         3.8|\n",
      "+-------------+------------+\n",
      "only showing top 20 rows\n",
      "\n"
     ]
    }
   ],
   "source": [
    "df_pyspark.select(['SepalLengthCm', 'SepalWidthCm']).show()"
   ]
  },
  {
   "cell_type": "code",
   "execution_count": 29,
   "id": "196dd72c",
   "metadata": {},
   "outputs": [
    {
     "data": {
      "text/plain": [
       "[('Id', 'int'),\n",
       " ('SepalLengthCm', 'double'),\n",
       " ('SepalWidthCm', 'double'),\n",
       " ('PetalLengthCm', 'double'),\n",
       " ('PetalWidthCm', 'double'),\n",
       " ('Species', 'string')]"
      ]
     },
     "execution_count": 29,
     "metadata": {},
     "output_type": "execute_result"
    }
   ],
   "source": [
    "df_pyspark.dtypes"
   ]
  },
  {
   "cell_type": "markdown",
   "id": "deef4591",
   "metadata": {},
   "source": [
    "### Check the describe function (similar to Pandas)"
   ]
  },
  {
   "cell_type": "code",
   "execution_count": 31,
   "id": "7df523f2",
   "metadata": {
    "scrolled": true
   },
   "outputs": [
    {
     "name": "stdout",
     "output_type": "stream",
     "text": [
      "+-------+------------------+------------------+-------------------+------------------+------------------+--------------+\n",
      "|summary|                Id|     SepalLengthCm|       SepalWidthCm|     PetalLengthCm|      PetalWidthCm|       Species|\n",
      "+-------+------------------+------------------+-------------------+------------------+------------------+--------------+\n",
      "|  count|               150|               150|                150|               150|               150|           150|\n",
      "|   mean|              75.5| 5.843333333333335| 3.0540000000000007|3.7586666666666693|1.1986666666666672|          null|\n",
      "| stddev|43.445367992456916|0.8280661279778637|0.43359431136217375| 1.764420419952262|0.7631607417008414|          null|\n",
      "|    min|                 1|               4.3|                2.0|               1.0|               0.1|   Iris-setosa|\n",
      "|    max|               150|               7.9|                4.4|               6.9|               2.5|Iris-virginica|\n",
      "+-------+------------------+------------------+-------------------+------------------+------------------+--------------+\n",
      "\n"
     ]
    }
   ],
   "source": [
    "df_pyspark.describe().show()"
   ]
  },
  {
   "cell_type": "markdown",
   "id": "cd24e27e",
   "metadata": {},
   "source": [
    "### Adding/removing columns"
   ]
  },
  {
   "cell_type": "code",
   "execution_count": 37,
   "id": "87636213",
   "metadata": {
    "scrolled": true
   },
   "outputs": [
    {
     "name": "stdout",
     "output_type": "stream",
     "text": [
      "+---+-------------+------------+-------------+------------+-----------+----------------+\n",
      "| Id|SepalLengthCm|SepalWidthCm|PetalLengthCm|PetalWidthCm|    Species|SepalWidthCm_new|\n",
      "+---+-------------+------------+-------------+------------+-----------+----------------+\n",
      "|  1|          5.1|         3.5|          1.4|         0.2|Iris-setosa|             4.5|\n",
      "|  2|          4.9|         3.0|          1.4|         0.2|Iris-setosa|             4.0|\n",
      "|  3|          4.7|         3.2|          1.3|         0.2|Iris-setosa|             4.2|\n",
      "|  4|          4.6|         3.1|          1.5|         0.2|Iris-setosa|             4.1|\n",
      "|  5|          5.0|         3.6|          1.4|         0.2|Iris-setosa|             4.6|\n",
      "|  6|          5.4|         3.9|          1.7|         0.4|Iris-setosa|             4.9|\n",
      "|  7|          4.6|         3.4|          1.4|         0.3|Iris-setosa|             4.4|\n",
      "|  8|          5.0|         3.4|          1.5|         0.2|Iris-setosa|             4.4|\n",
      "|  9|          4.4|         2.9|          1.4|         0.2|Iris-setosa|             3.9|\n",
      "| 10|          4.9|         3.1|          1.5|         0.1|Iris-setosa|             4.1|\n",
      "| 11|          5.4|         3.7|          1.5|         0.2|Iris-setosa|             4.7|\n",
      "| 12|          4.8|         3.4|          1.6|         0.2|Iris-setosa|             4.4|\n",
      "| 13|          4.8|         3.0|          1.4|         0.1|Iris-setosa|             4.0|\n",
      "| 14|          4.3|         3.0|          1.1|         0.1|Iris-setosa|             4.0|\n",
      "| 15|          5.8|         4.0|          1.2|         0.2|Iris-setosa|             5.0|\n",
      "| 16|          5.7|         4.4|          1.5|         0.4|Iris-setosa|             5.4|\n",
      "| 17|          5.4|         3.9|          1.3|         0.4|Iris-setosa|             4.9|\n",
      "| 18|          5.1|         3.5|          1.4|         0.3|Iris-setosa|             4.5|\n",
      "| 19|          5.7|         3.8|          1.7|         0.3|Iris-setosa|             4.8|\n",
      "| 20|          5.1|         3.8|          1.5|         0.3|Iris-setosa|             4.8|\n",
      "+---+-------------+------------+-------------+------------+-----------+----------------+\n",
      "only showing top 20 rows\n",
      "\n"
     ]
    }
   ],
   "source": [
    "# adding\n",
    "df_new = df_pyspark.withColumn('SepalWidthCm_new', df_pyspark['SepalWidthCm']+1)#.show()\n",
    "df_new.show()"
   ]
  },
  {
   "cell_type": "code",
   "execution_count": 38,
   "id": "b62a11a5",
   "metadata": {
    "scrolled": true
   },
   "outputs": [
    {
     "name": "stdout",
     "output_type": "stream",
     "text": [
      "+---+-------------+------------+-------------+------------+-----------+\n",
      "| Id|SepalLengthCm|SepalWidthCm|PetalLengthCm|PetalWidthCm|    Species|\n",
      "+---+-------------+------------+-------------+------------+-----------+\n",
      "|  1|          5.1|         3.5|          1.4|         0.2|Iris-setosa|\n",
      "|  2|          4.9|         3.0|          1.4|         0.2|Iris-setosa|\n",
      "|  3|          4.7|         3.2|          1.3|         0.2|Iris-setosa|\n",
      "|  4|          4.6|         3.1|          1.5|         0.2|Iris-setosa|\n",
      "|  5|          5.0|         3.6|          1.4|         0.2|Iris-setosa|\n",
      "|  6|          5.4|         3.9|          1.7|         0.4|Iris-setosa|\n",
      "|  7|          4.6|         3.4|          1.4|         0.3|Iris-setosa|\n",
      "|  8|          5.0|         3.4|          1.5|         0.2|Iris-setosa|\n",
      "|  9|          4.4|         2.9|          1.4|         0.2|Iris-setosa|\n",
      "| 10|          4.9|         3.1|          1.5|         0.1|Iris-setosa|\n",
      "| 11|          5.4|         3.7|          1.5|         0.2|Iris-setosa|\n",
      "| 12|          4.8|         3.4|          1.6|         0.2|Iris-setosa|\n",
      "| 13|          4.8|         3.0|          1.4|         0.1|Iris-setosa|\n",
      "| 14|          4.3|         3.0|          1.1|         0.1|Iris-setosa|\n",
      "| 15|          5.8|         4.0|          1.2|         0.2|Iris-setosa|\n",
      "| 16|          5.7|         4.4|          1.5|         0.4|Iris-setosa|\n",
      "| 17|          5.4|         3.9|          1.3|         0.4|Iris-setosa|\n",
      "| 18|          5.1|         3.5|          1.4|         0.3|Iris-setosa|\n",
      "| 19|          5.7|         3.8|          1.7|         0.3|Iris-setosa|\n",
      "| 20|          5.1|         3.8|          1.5|         0.3|Iris-setosa|\n",
      "+---+-------------+------------+-------------+------------+-----------+\n",
      "only showing top 20 rows\n",
      "\n"
     ]
    }
   ],
   "source": [
    "# dropping\n",
    "df_new = df_pyspark.drop('SepalWidthCm_new')\n",
    "df_new.show()"
   ]
  },
  {
   "cell_type": "markdown",
   "id": "018aadbd",
   "metadata": {},
   "source": [
    "### Renaming columns"
   ]
  },
  {
   "cell_type": "code",
   "execution_count": 39,
   "id": "fbc617b1",
   "metadata": {
    "scrolled": true
   },
   "outputs": [
    {
     "name": "stdout",
     "output_type": "stream",
     "text": [
      "+---+-------------+------------+-------------+------------+-------------+\n",
      "| Id|SepalLengthCm|SepalWidthCm|PetalLengthCm|PetalWidthCm|Other Species|\n",
      "+---+-------------+------------+-------------+------------+-------------+\n",
      "|  1|          5.1|         3.5|          1.4|         0.2|  Iris-setosa|\n",
      "|  2|          4.9|         3.0|          1.4|         0.2|  Iris-setosa|\n",
      "|  3|          4.7|         3.2|          1.3|         0.2|  Iris-setosa|\n",
      "|  4|          4.6|         3.1|          1.5|         0.2|  Iris-setosa|\n",
      "|  5|          5.0|         3.6|          1.4|         0.2|  Iris-setosa|\n",
      "|  6|          5.4|         3.9|          1.7|         0.4|  Iris-setosa|\n",
      "|  7|          4.6|         3.4|          1.4|         0.3|  Iris-setosa|\n",
      "|  8|          5.0|         3.4|          1.5|         0.2|  Iris-setosa|\n",
      "|  9|          4.4|         2.9|          1.4|         0.2|  Iris-setosa|\n",
      "| 10|          4.9|         3.1|          1.5|         0.1|  Iris-setosa|\n",
      "| 11|          5.4|         3.7|          1.5|         0.2|  Iris-setosa|\n",
      "| 12|          4.8|         3.4|          1.6|         0.2|  Iris-setosa|\n",
      "| 13|          4.8|         3.0|          1.4|         0.1|  Iris-setosa|\n",
      "| 14|          4.3|         3.0|          1.1|         0.1|  Iris-setosa|\n",
      "| 15|          5.8|         4.0|          1.2|         0.2|  Iris-setosa|\n",
      "| 16|          5.7|         4.4|          1.5|         0.4|  Iris-setosa|\n",
      "| 17|          5.4|         3.9|          1.3|         0.4|  Iris-setosa|\n",
      "| 18|          5.1|         3.5|          1.4|         0.3|  Iris-setosa|\n",
      "| 19|          5.7|         3.8|          1.7|         0.3|  Iris-setosa|\n",
      "| 20|          5.1|         3.8|          1.5|         0.3|  Iris-setosa|\n",
      "+---+-------------+------------+-------------+------------+-------------+\n",
      "only showing top 20 rows\n",
      "\n"
     ]
    }
   ],
   "source": [
    "df_pyspark.withColumnRenamed('Species','Other Species').show()"
   ]
  },
  {
   "cell_type": "markdown",
   "id": "0d7d5506",
   "metadata": {},
   "source": [
    "### PySpark Handling Missing Values\n",
    "- Dropping columns\n",
    "- Dropping rows\n",
    "- Various parameter in dropping functionalities\n",
    "- Handling missing values by mean/median/mode replacement"
   ]
  },
  {
   "cell_type": "code",
   "execution_count": 45,
   "id": "879bed0a",
   "metadata": {},
   "outputs": [
    {
     "name": "stdout",
     "output_type": "stream",
     "text": [
      "+-------------+------------+-------------+------------+-----------+\n",
      "|SepalLengthCm|SepalWidthCm|PetalLengthCm|PetalWidthCm|    Species|\n",
      "+-------------+------------+-------------+------------+-----------+\n",
      "|          5.1|         3.5|          1.4|         0.2|Iris-setosa|\n",
      "|          4.9|         3.0|          1.4|         0.2|Iris-setosa|\n",
      "|          4.7|         3.2|          1.3|         0.2|Iris-setosa|\n",
      "|          4.6|         3.1|          1.5|         0.2|Iris-setosa|\n",
      "|          5.0|         3.6|          1.4|         0.2|Iris-setosa|\n",
      "|          5.4|         3.9|          1.7|         0.4|Iris-setosa|\n",
      "|          4.6|         3.4|          1.4|         0.3|Iris-setosa|\n",
      "|          5.0|         3.4|          1.5|         0.2|Iris-setosa|\n",
      "|          4.4|         2.9|          1.4|         0.2|Iris-setosa|\n",
      "|          4.9|         3.1|          1.5|         0.1|Iris-setosa|\n",
      "|          5.4|         3.7|          1.5|         0.2|Iris-setosa|\n",
      "|          4.8|         3.4|          1.6|         0.2|Iris-setosa|\n",
      "|          4.8|         3.0|          1.4|         0.1|Iris-setosa|\n",
      "|          4.3|         3.0|          1.1|         0.1|Iris-setosa|\n",
      "|          5.8|         4.0|          1.2|         0.2|Iris-setosa|\n",
      "|          5.7|         4.4|          1.5|         0.4|Iris-setosa|\n",
      "|          5.4|         3.9|          1.3|         0.4|Iris-setosa|\n",
      "|          5.1|         3.5|          1.4|         0.3|Iris-setosa|\n",
      "|          5.7|         3.8|          1.7|         0.3|Iris-setosa|\n",
      "|          5.1|         3.8|          1.5|         0.3|Iris-setosa|\n",
      "+-------------+------------+-------------+------------+-----------+\n",
      "only showing top 20 rows\n",
      "\n"
     ]
    }
   ],
   "source": [
    "# dropping columns\n",
    "df = df_pyspark\n",
    "df.drop('Id').show()"
   ]
  },
  {
   "cell_type": "code",
   "execution_count": 53,
   "id": "e35f0461",
   "metadata": {},
   "outputs": [
    {
     "name": "stdout",
     "output_type": "stream",
     "text": [
      "+---+-------------+------------+-------------+------------+-----------+\n",
      "| Id|SepalLengthCm|SepalWidthCm|PetalLengthCm|PetalWidthCm|    Species|\n",
      "+---+-------------+------------+-------------+------------+-----------+\n",
      "|  1|          5.1|         3.5|          1.4|         0.2|Iris-setosa|\n",
      "|  2|          4.9|         3.0|          1.4|         0.2|Iris-setosa|\n",
      "|  3|          4.7|         3.2|          1.3|         0.2|Iris-setosa|\n",
      "|  4|          4.6|         3.1|          1.5|         0.2|Iris-setosa|\n",
      "|  5|          5.0|         3.6|          1.4|         0.2|Iris-setosa|\n",
      "|  6|          5.4|         3.9|          1.7|         0.4|Iris-setosa|\n",
      "|  7|          4.6|         3.4|          1.4|         0.3|Iris-setosa|\n",
      "|  8|          5.0|         3.4|          1.5|         0.2|Iris-setosa|\n",
      "|  9|          4.4|         2.9|          1.4|         0.2|Iris-setosa|\n",
      "| 10|          4.9|         3.1|          1.5|         0.1|Iris-setosa|\n",
      "| 11|          5.4|         3.7|          1.5|         0.2|Iris-setosa|\n",
      "| 12|          4.8|         3.4|          1.6|         0.2|Iris-setosa|\n",
      "| 13|          4.8|         3.0|          1.4|         0.1|Iris-setosa|\n",
      "| 14|          4.3|         3.0|          1.1|         0.1|Iris-setosa|\n",
      "| 15|          5.8|         4.0|          1.2|         0.2|Iris-setosa|\n",
      "| 16|          5.7|         4.4|          1.5|         0.4|Iris-setosa|\n",
      "| 17|          5.4|         3.9|          1.3|         0.4|Iris-setosa|\n",
      "| 18|          5.1|         3.5|          1.4|         0.3|Iris-setosa|\n",
      "| 19|          5.7|         3.8|          1.7|         0.3|Iris-setosa|\n",
      "| 20|          5.1|         3.8|          1.5|         0.3|Iris-setosa|\n",
      "+---+-------------+------------+-------------+------------+-----------+\n",
      "only showing top 20 rows\n",
      "\n"
     ]
    }
   ],
   "source": [
    "df.na.drop().show() #this will drop the rows with null values"
   ]
  },
  {
   "cell_type": "code",
   "execution_count": 56,
   "id": "0e014ceb",
   "metadata": {},
   "outputs": [
    {
     "data": {
      "text/plain": [
       "DataFrame[Id: int, SepalLengthCm: double, SepalWidthCm: double, PetalLengthCm: double, PetalWidthCm: double, Species: string]"
      ]
     },
     "execution_count": 56,
     "metadata": {},
     "output_type": "execute_result"
    }
   ],
   "source": [
    "df.na.drop(how='any') # [default] will drop when there is at least one null on that row\n",
    "df.na.drop(how='all') # will drop when all elements are null on that row\n",
    "df.na.drop(thresh=2) # will drop when there are at least TWO nulls on that row\n",
    "df.na.drop(subset=['SepalWidthCm']) # will drop on specific columns"
   ]
  },
  {
   "cell_type": "markdown",
   "id": "8e79128c",
   "metadata": {},
   "source": [
    "### Filling the missing values"
   ]
  },
  {
   "cell_type": "code",
   "execution_count": 59,
   "id": "318387e1",
   "metadata": {},
   "outputs": [
    {
     "data": {
      "text/plain": [
       "DataFrame[Id: int, SepalLengthCm: double, SepalWidthCm: double, PetalLengthCm: double, PetalWidthCm: double, Species: string]"
      ]
     },
     "execution_count": 59,
     "metadata": {},
     "output_type": "execute_result"
    }
   ],
   "source": [
    "df.na.fill(-9999, ['SepalWidthCm', 'SepalLengthCm']) # this will replace nulls on selected columns with -9999 "
   ]
  },
  {
   "cell_type": "code",
   "execution_count": 63,
   "id": "73bf634a",
   "metadata": {},
   "outputs": [
    {
     "name": "stdout",
     "output_type": "stream",
     "text": [
      "+---+-------------+------------+-------------+------------+-----------+---------------------+--------------------+\n",
      "| Id|SepalLengthCm|SepalWidthCm|PetalLengthCm|PetalWidthCm|    Species|SepalLengthCm_imputed|SepalWidthCm_imputed|\n",
      "+---+-------------+------------+-------------+------------+-----------+---------------------+--------------------+\n",
      "|  1|          5.1|         3.5|          1.4|         0.2|Iris-setosa|                  5.1|                 3.5|\n",
      "|  2|          4.9|         3.0|          1.4|         0.2|Iris-setosa|                  4.9|                 3.0|\n",
      "|  3|          4.7|         3.2|          1.3|         0.2|Iris-setosa|                  4.7|                 3.2|\n",
      "|  4|          4.6|         3.1|          1.5|         0.2|Iris-setosa|                  4.6|                 3.1|\n",
      "|  5|          5.0|         3.6|          1.4|         0.2|Iris-setosa|                  5.0|                 3.6|\n",
      "|  6|          5.4|         3.9|          1.7|         0.4|Iris-setosa|                  5.4|                 3.9|\n",
      "|  7|          4.6|         3.4|          1.4|         0.3|Iris-setosa|                  4.6|                 3.4|\n",
      "|  8|          5.0|         3.4|          1.5|         0.2|Iris-setosa|                  5.0|                 3.4|\n",
      "|  9|          4.4|         2.9|          1.4|         0.2|Iris-setosa|                  4.4|                 2.9|\n",
      "| 10|          4.9|         3.1|          1.5|         0.1|Iris-setosa|                  4.9|                 3.1|\n",
      "| 11|          5.4|         3.7|          1.5|         0.2|Iris-setosa|                  5.4|                 3.7|\n",
      "| 12|          4.8|         3.4|          1.6|         0.2|Iris-setosa|                  4.8|                 3.4|\n",
      "| 13|          4.8|         3.0|          1.4|         0.1|Iris-setosa|                  4.8|                 3.0|\n",
      "| 14|          4.3|         3.0|          1.1|         0.1|Iris-setosa|                  4.3|                 3.0|\n",
      "| 15|          5.8|         4.0|          1.2|         0.2|Iris-setosa|                  5.8|                 4.0|\n",
      "| 16|          5.7|         4.4|          1.5|         0.4|Iris-setosa|                  5.7|                 4.4|\n",
      "| 17|          5.4|         3.9|          1.3|         0.4|Iris-setosa|                  5.4|                 3.9|\n",
      "| 18|          5.1|         3.5|          1.4|         0.3|Iris-setosa|                  5.1|                 3.5|\n",
      "| 19|          5.7|         3.8|          1.7|         0.3|Iris-setosa|                  5.7|                 3.8|\n",
      "| 20|          5.1|         3.8|          1.5|         0.3|Iris-setosa|                  5.1|                 3.8|\n",
      "+---+-------------+------------+-------------+------------+-----------+---------------------+--------------------+\n",
      "only showing top 20 rows\n",
      "\n",
      "+---+-------------+------------+-------------+------------+-----------+---------------------+--------------------+\n",
      "| Id|SepalLengthCm|SepalWidthCm|PetalLengthCm|PetalWidthCm|    Species|SepalLengthCm_imputed|SepalWidthCm_imputed|\n",
      "+---+-------------+------------+-------------+------------+-----------+---------------------+--------------------+\n",
      "|  1|          5.1|         3.5|          1.4|         0.2|Iris-setosa|                  5.1|                 3.5|\n",
      "|  2|          4.9|         3.0|          1.4|         0.2|Iris-setosa|                  4.9|                 3.0|\n",
      "|  3|          4.7|         3.2|          1.3|         0.2|Iris-setosa|                  4.7|                 3.2|\n",
      "|  4|          4.6|         3.1|          1.5|         0.2|Iris-setosa|                  4.6|                 3.1|\n",
      "|  5|          5.0|         3.6|          1.4|         0.2|Iris-setosa|                  5.0|                 3.6|\n",
      "|  6|          5.4|         3.9|          1.7|         0.4|Iris-setosa|                  5.4|                 3.9|\n",
      "|  7|          4.6|         3.4|          1.4|         0.3|Iris-setosa|                  4.6|                 3.4|\n",
      "|  8|          5.0|         3.4|          1.5|         0.2|Iris-setosa|                  5.0|                 3.4|\n",
      "|  9|          4.4|         2.9|          1.4|         0.2|Iris-setosa|                  4.4|                 2.9|\n",
      "| 10|          4.9|         3.1|          1.5|         0.1|Iris-setosa|                  4.9|                 3.1|\n",
      "| 11|          5.4|         3.7|          1.5|         0.2|Iris-setosa|                  5.4|                 3.7|\n",
      "| 12|          4.8|         3.4|          1.6|         0.2|Iris-setosa|                  4.8|                 3.4|\n",
      "| 13|          4.8|         3.0|          1.4|         0.1|Iris-setosa|                  4.8|                 3.0|\n",
      "| 14|          4.3|         3.0|          1.1|         0.1|Iris-setosa|                  4.3|                 3.0|\n",
      "| 15|          5.8|         4.0|          1.2|         0.2|Iris-setosa|                  5.8|                 4.0|\n",
      "| 16|          5.7|         4.4|          1.5|         0.4|Iris-setosa|                  5.7|                 4.4|\n",
      "| 17|          5.4|         3.9|          1.3|         0.4|Iris-setosa|                  5.4|                 3.9|\n",
      "| 18|          5.1|         3.5|          1.4|         0.3|Iris-setosa|                  5.1|                 3.5|\n",
      "| 19|          5.7|         3.8|          1.7|         0.3|Iris-setosa|                  5.7|                 3.8|\n",
      "| 20|          5.1|         3.8|          1.5|         0.3|Iris-setosa|                  5.1|                 3.8|\n",
      "+---+-------------+------------+-------------+------------+-----------+---------------------+--------------------+\n",
      "only showing top 20 rows\n",
      "\n"
     ]
    }
   ],
   "source": [
    "# fill with the mean\n",
    "\n",
    "from pyspark.ml.feature import Imputer\n",
    "\n",
    "imputer = Imputer(\n",
    "                  inputCols = ['SepalLengthCm', 'SepalWidthCm'],\n",
    "                  outputCols = [\"{}_imputed\".format(c) for c in ['SepalLengthCm', 'SepalWidthCm']]).setStrategy('mean')\n",
    "imputer.fit(df).transform(df).show()\n",
    "\n",
    "# filling with median\n",
    "imputer = Imputer(\n",
    "                  inputCols = ['SepalLengthCm', 'SepalWidthCm'],\n",
    "                  outputCols = [\"{}_imputed\".format(c) for c in ['SepalLengthCm', 'SepalWidthCm']]).setStrategy('median')\n",
    "imputer.fit(df).transform(df).show()"
   ]
  },
  {
   "cell_type": "markdown",
   "id": "b00c0913",
   "metadata": {},
   "source": [
    "# Filter operation in PySpark\n",
    "- Filter operation\n",
    "- &,\",==\n",
    "- ~"
   ]
  },
  {
   "cell_type": "code",
   "execution_count": 67,
   "id": "fefe1162",
   "metadata": {},
   "outputs": [
    {
     "name": "stdout",
     "output_type": "stream",
     "text": [
      "+-------------+\n",
      "|SepalLengthCm|\n",
      "+-------------+\n",
      "|          5.1|\n",
      "|          5.4|\n",
      "|          5.4|\n",
      "|          5.8|\n",
      "|          5.7|\n",
      "|          5.4|\n",
      "|          5.1|\n",
      "|          5.7|\n",
      "|          5.1|\n",
      "|          5.4|\n",
      "|          5.1|\n",
      "|          5.1|\n",
      "|          5.2|\n",
      "|          5.2|\n",
      "|          5.4|\n",
      "|          5.2|\n",
      "|          5.5|\n",
      "|          5.5|\n",
      "|          5.1|\n",
      "|          5.1|\n",
      "+-------------+\n",
      "only showing top 20 rows\n",
      "\n"
     ]
    }
   ],
   "source": [
    "# find sepal length > 5\n",
    "#df.filter(\"SepalLengthCm>5\").show()\n",
    "df.filter(\"SepalLengthCm>5\").select(['SepalLengthCm']).show()"
   ]
  },
  {
   "cell_type": "code",
   "execution_count": 68,
   "id": "4ea8c45c",
   "metadata": {},
   "outputs": [
    {
     "name": "stdout",
     "output_type": "stream",
     "text": [
      "+---+-------------+------------+-------------+------------+-----------+\n",
      "| Id|SepalLengthCm|SepalWidthCm|PetalLengthCm|PetalWidthCm|    Species|\n",
      "+---+-------------+------------+-------------+------------+-----------+\n",
      "|  1|          5.1|         3.5|          1.4|         0.2|Iris-setosa|\n",
      "|  6|          5.4|         3.9|          1.7|         0.4|Iris-setosa|\n",
      "| 11|          5.4|         3.7|          1.5|         0.2|Iris-setosa|\n",
      "| 15|          5.8|         4.0|          1.2|         0.2|Iris-setosa|\n",
      "| 16|          5.7|         4.4|          1.5|         0.4|Iris-setosa|\n",
      "| 17|          5.4|         3.9|          1.3|         0.4|Iris-setosa|\n",
      "| 18|          5.1|         3.5|          1.4|         0.3|Iris-setosa|\n",
      "| 19|          5.7|         3.8|          1.7|         0.3|Iris-setosa|\n",
      "| 20|          5.1|         3.8|          1.5|         0.3|Iris-setosa|\n",
      "| 21|          5.4|         3.4|          1.7|         0.2|Iris-setosa|\n",
      "| 22|          5.1|         3.7|          1.5|         0.4|Iris-setosa|\n",
      "| 24|          5.1|         3.3|          1.7|         0.5|Iris-setosa|\n",
      "| 28|          5.2|         3.5|          1.5|         0.2|Iris-setosa|\n",
      "| 29|          5.2|         3.4|          1.4|         0.2|Iris-setosa|\n",
      "| 32|          5.4|         3.4|          1.5|         0.4|Iris-setosa|\n",
      "| 33|          5.2|         4.1|          1.5|         0.1|Iris-setosa|\n",
      "| 34|          5.5|         4.2|          1.4|         0.2|Iris-setosa|\n",
      "| 37|          5.5|         3.5|          1.3|         0.2|Iris-setosa|\n",
      "| 40|          5.1|         3.4|          1.5|         0.2|Iris-setosa|\n",
      "| 45|          5.1|         3.8|          1.9|         0.4|Iris-setosa|\n",
      "+---+-------------+------------+-------------+------------+-----------+\n",
      "only showing top 20 rows\n",
      "\n"
     ]
    }
   ],
   "source": [
    "df.filter(df['SepalLengthCm']>5).show()"
   ]
  },
  {
   "cell_type": "code",
   "execution_count": 74,
   "id": "410164d1",
   "metadata": {},
   "outputs": [
    {
     "name": "stdout",
     "output_type": "stream",
     "text": [
      "+---+-------------+------------+-------------+------------+---------------+\n",
      "| Id|SepalLengthCm|SepalWidthCm|PetalLengthCm|PetalWidthCm|        Species|\n",
      "+---+-------------+------------+-------------+------------+---------------+\n",
      "|  1|          5.1|         3.5|          1.4|         0.2|    Iris-setosa|\n",
      "|  6|          5.4|         3.9|          1.7|         0.4|    Iris-setosa|\n",
      "| 11|          5.4|         3.7|          1.5|         0.2|    Iris-setosa|\n",
      "| 17|          5.4|         3.9|          1.3|         0.4|    Iris-setosa|\n",
      "| 18|          5.1|         3.5|          1.4|         0.3|    Iris-setosa|\n",
      "| 20|          5.1|         3.8|          1.5|         0.3|    Iris-setosa|\n",
      "| 21|          5.4|         3.4|          1.7|         0.2|    Iris-setosa|\n",
      "| 22|          5.1|         3.7|          1.5|         0.4|    Iris-setosa|\n",
      "| 24|          5.1|         3.3|          1.7|         0.5|    Iris-setosa|\n",
      "| 28|          5.2|         3.5|          1.5|         0.2|    Iris-setosa|\n",
      "| 29|          5.2|         3.4|          1.4|         0.2|    Iris-setosa|\n",
      "| 32|          5.4|         3.4|          1.5|         0.4|    Iris-setosa|\n",
      "| 33|          5.2|         4.1|          1.5|         0.1|    Iris-setosa|\n",
      "| 34|          5.5|         4.2|          1.4|         0.2|    Iris-setosa|\n",
      "| 37|          5.5|         3.5|          1.3|         0.2|    Iris-setosa|\n",
      "| 40|          5.1|         3.4|          1.5|         0.2|    Iris-setosa|\n",
      "| 45|          5.1|         3.8|          1.9|         0.4|    Iris-setosa|\n",
      "| 47|          5.1|         3.8|          1.6|         0.2|    Iris-setosa|\n",
      "| 49|          5.3|         3.7|          1.5|         0.2|    Iris-setosa|\n",
      "| 54|          5.5|         2.3|          4.0|         1.3|Iris-versicolor|\n",
      "+---+-------------+------------+-------------+------------+---------------+\n",
      "only showing top 20 rows\n",
      "\n"
     ]
    }
   ],
   "source": [
    "# multiple filters\n",
    "df.filter(  (df['SepalLengthCm']>5) &\n",
    "            (df['SepalLengthCm']<=5.5)  ).show()\n",
    "\n",
    "# ~ not condition\n",
    "# | or conditionn\n",
    "# & and condition"
   ]
  },
  {
   "cell_type": "markdown",
   "id": "adaf52c0",
   "metadata": {},
   "source": [
    "# PySpark GroupBy and Aggregate functions"
   ]
  },
  {
   "cell_type": "code",
   "execution_count": 85,
   "id": "0d51aeb0",
   "metadata": {},
   "outputs": [
    {
     "name": "stdout",
     "output_type": "stream",
     "text": [
      "+---------------+-------+------------------+------------------+------------------+------------------+\n",
      "|        Species|avg(Id)|avg(SepalLengthCm)| avg(SepalWidthCm)|avg(PetalLengthCm)| avg(PetalWidthCm)|\n",
      "+---------------+-------+------------------+------------------+------------------+------------------+\n",
      "| Iris-virginica|  125.5| 6.587999999999998|2.9739999999999998|             5.552|             2.026|\n",
      "|    Iris-setosa|   25.5| 5.005999999999999|3.4180000000000006|             1.464|0.2439999999999999|\n",
      "|Iris-versicolor|   75.5|             5.936|2.7700000000000005|              4.26|1.3259999999999998|\n",
      "+---------------+-------+------------------+------------------+------------------+------------------+\n",
      "\n",
      "+---------------+-----+\n",
      "|        Species|count|\n",
      "+---------------+-----+\n",
      "| Iris-virginica|   50|\n",
      "|    Iris-setosa|   50|\n",
      "|Iris-versicolor|   50|\n",
      "+---------------+-----+\n",
      "\n"
     ]
    }
   ],
   "source": [
    "# groupby species to find the sum/max/min/mean per class\n",
    "df.groupBy('Species').mean().show()\n",
    "df.groupBy('Species').count().show() # number of samples in each class"
   ]
  },
  {
   "cell_type": "code",
   "execution_count": 87,
   "id": "29468297",
   "metadata": {},
   "outputs": [
    {
     "name": "stdout",
     "output_type": "stream",
     "text": [
      "+------------------+\n",
      "|sum(SepalLengthCm)|\n",
      "+------------------+\n",
      "| 876.5000000000002|\n",
      "+------------------+\n",
      "\n"
     ]
    }
   ],
   "source": [
    "df.agg({'SepalLengthCm': 'sum'}).show() # show the total sum of sepal length"
   ]
  },
  {
   "cell_type": "markdown",
   "id": "eadda3a6",
   "metadata": {},
   "source": [
    "# Fitting a model and prediction"
   ]
  },
  {
   "cell_type": "code",
   "execution_count": 99,
   "id": "86e22399",
   "metadata": {
    "scrolled": true
   },
   "outputs": [
    {
     "name": "stdout",
     "output_type": "stream",
     "text": [
      "+---+-------------+------------+-------------+------------+-----------+-----------+\n",
      "| Id|SepalLengthCm|SepalWidthCm|PetalLengthCm|PetalWidthCm|    Species|Independent|\n",
      "+---+-------------+------------+-------------+------------+-----------+-----------+\n",
      "|  1|          5.1|         3.5|          1.4|         0.2|Iris-setosa|  [5.1,3.5]|\n",
      "|  2|          4.9|         3.0|          1.4|         0.2|Iris-setosa|  [4.9,3.0]|\n",
      "|  3|          4.7|         3.2|          1.3|         0.2|Iris-setosa|  [4.7,3.2]|\n",
      "|  4|          4.6|         3.1|          1.5|         0.2|Iris-setosa|  [4.6,3.1]|\n",
      "|  5|          5.0|         3.6|          1.4|         0.2|Iris-setosa|  [5.0,3.6]|\n",
      "|  6|          5.4|         3.9|          1.7|         0.4|Iris-setosa|  [5.4,3.9]|\n",
      "|  7|          4.6|         3.4|          1.4|         0.3|Iris-setosa|  [4.6,3.4]|\n",
      "|  8|          5.0|         3.4|          1.5|         0.2|Iris-setosa|  [5.0,3.4]|\n",
      "|  9|          4.4|         2.9|          1.4|         0.2|Iris-setosa|  [4.4,2.9]|\n",
      "| 10|          4.9|         3.1|          1.5|         0.1|Iris-setosa|  [4.9,3.1]|\n",
      "| 11|          5.4|         3.7|          1.5|         0.2|Iris-setosa|  [5.4,3.7]|\n",
      "| 12|          4.8|         3.4|          1.6|         0.2|Iris-setosa|  [4.8,3.4]|\n",
      "| 13|          4.8|         3.0|          1.4|         0.1|Iris-setosa|  [4.8,3.0]|\n",
      "| 14|          4.3|         3.0|          1.1|         0.1|Iris-setosa|  [4.3,3.0]|\n",
      "| 15|          5.8|         4.0|          1.2|         0.2|Iris-setosa|  [5.8,4.0]|\n",
      "| 16|          5.7|         4.4|          1.5|         0.4|Iris-setosa|  [5.7,4.4]|\n",
      "| 17|          5.4|         3.9|          1.3|         0.4|Iris-setosa|  [5.4,3.9]|\n",
      "| 18|          5.1|         3.5|          1.4|         0.3|Iris-setosa|  [5.1,3.5]|\n",
      "| 19|          5.7|         3.8|          1.7|         0.3|Iris-setosa|  [5.7,3.8]|\n",
      "| 20|          5.1|         3.8|          1.5|         0.3|Iris-setosa|  [5.1,3.8]|\n",
      "+---+-------------+------------+-------------+------------+-----------+-----------+\n",
      "only showing top 20 rows\n",
      "\n"
     ]
    }
   ],
   "source": [
    "from pyspark.ml.feature import VectorAssembler\n",
    "feature_assembler = VectorAssembler(inputCols = ['SepalLengthCm', 'SepalWidthCm'], outputCol = 'Independent')\n",
    "output = feature_assembler.transform(df)\n",
    "output.show()"
   ]
  },
  {
   "cell_type": "code",
   "execution_count": 104,
   "id": "958ba073",
   "metadata": {},
   "outputs": [
    {
     "name": "stdout",
     "output_type": "stream",
     "text": [
      "+-----------+-------------+\n",
      "|Independent|PetalLengthCm|\n",
      "+-----------+-------------+\n",
      "|  [5.1,3.5]|          1.4|\n",
      "|  [4.9,3.0]|          1.4|\n",
      "|  [4.7,3.2]|          1.3|\n",
      "|  [4.6,3.1]|          1.5|\n",
      "|  [5.0,3.6]|          1.4|\n",
      "|  [5.4,3.9]|          1.7|\n",
      "|  [4.6,3.4]|          1.4|\n",
      "|  [5.0,3.4]|          1.5|\n",
      "|  [4.4,2.9]|          1.4|\n",
      "|  [4.9,3.1]|          1.5|\n",
      "|  [5.4,3.7]|          1.5|\n",
      "|  [4.8,3.4]|          1.6|\n",
      "|  [4.8,3.0]|          1.4|\n",
      "|  [4.3,3.0]|          1.1|\n",
      "|  [5.8,4.0]|          1.2|\n",
      "|  [5.7,4.4]|          1.5|\n",
      "|  [5.4,3.9]|          1.3|\n",
      "|  [5.1,3.5]|          1.4|\n",
      "|  [5.7,3.8]|          1.7|\n",
      "|  [5.1,3.8]|          1.5|\n",
      "+-----------+-------------+\n",
      "only showing top 20 rows\n",
      "\n"
     ]
    }
   ],
   "source": [
    "df_final = output.select(\"Independent\",'PetalLengthCm')\n",
    "df_final.show()"
   ]
  },
  {
   "cell_type": "code",
   "execution_count": 107,
   "id": "81466825",
   "metadata": {},
   "outputs": [
    {
     "name": "stdout",
     "output_type": "stream",
     "text": [
      "[1.7836386691079102,-1.39280659182604]\n",
      "-2.44840734665302\n"
     ]
    }
   ],
   "source": [
    "# train-test split\n",
    "from pyspark.ml.regression import LinearRegression\n",
    "train_data, test_data = df_final.randomSplit([0.75, 0.25])\n",
    "regressor = LinearRegression(featuresCol='Independent', labelCol='PetalLengthCm')\n",
    "regressor = regressor.fit(train_data)\n",
    "print(regressor.coefficients)\n",
    "print(regressor.intercept)"
   ]
  },
  {
   "cell_type": "markdown",
   "id": "191ba585",
   "metadata": {},
   "source": [
    "## Prediction"
   ]
  },
  {
   "cell_type": "code",
   "execution_count": 108,
   "id": "955a6bea",
   "metadata": {},
   "outputs": [
    {
     "name": "stdout",
     "output_type": "stream",
     "text": [
      "+-----------+-------------+------------------+\n",
      "|Independent|PetalLengthCm|        prediction|\n",
      "+-----------+-------------+------------------+\n",
      "|  [4.6,3.6]|          1.0|0.7422268006696222|\n",
      "|  [4.9,2.4]|          3.3|2.9486863115932445|\n",
      "|  [5.0,2.0]|          3.5|3.6841728152344513|\n",
      "|  [5.0,3.4]|          1.6|1.7342435866779957|\n",
      "|  [5.0,3.5]|          1.3|1.5949629274953918|\n",
      "|  [5.1,2.5]|          3.0| 3.166133386232222|\n",
      "|  [5.1,3.3]|          1.7| 2.051888112771391|\n",
      "|  [5.1,3.8]|          1.5|1.3554848168583704|\n",
      "|  [5.1,3.8]|          1.9|1.3554848168583704|\n",
      "|  [5.2,3.5]|          1.5|1.9516906613169742|\n",
      "|  [5.2,4.1]|          1.5|  1.11600670622135|\n",
      "|  [5.4,3.9]|          1.7|1.7512957584081401|\n",
      "|  [5.5,2.4]|          3.7| 4.018869513057991|\n",
      "|  [5.6,2.5]|          3.9| 4.057952720786176|\n",
      "|  [5.7,2.9]|          4.2| 3.679193950966552|\n",
      "|  [5.7,4.4]|          1.5|1.5899840632274915|\n",
      "|  [5.8,2.7]|          5.1|4.1361191362425505|\n",
      "|  [5.8,2.8]|          5.1| 3.996838477059948|\n",
      "|  [5.9,3.2]|          4.8|3.6180797072403226|\n",
      "|  [6.1,2.6]|          5.6| 4.810491396157529|\n",
      "+-----------+-------------+------------------+\n",
      "only showing top 20 rows\n",
      "\n"
     ]
    },
    {
     "name": "stderr",
     "output_type": "stream",
     "text": [
      "C:\\Users\\hassa\\anaconda3\\lib\\site-packages\\pyspark\\sql\\context.py:125: FutureWarning: Deprecated in 3.0.0. Use SparkSession.builder.getOrCreate() instead.\n",
      "  warnings.warn(\n"
     ]
    }
   ],
   "source": [
    "preds = regressor.evaluate(test_data)\n",
    "preds.predictions.show()"
   ]
  },
  {
   "cell_type": "code",
   "execution_count": 109,
   "id": "432ec679",
   "metadata": {},
   "outputs": [
    {
     "data": {
      "text/plain": [
       "0.49019888417641805"
      ]
     },
     "execution_count": 109,
     "metadata": {},
     "output_type": "execute_result"
    }
   ],
   "source": [
    "preds.meanAbsoluteError"
   ]
  },
  {
   "cell_type": "code",
   "execution_count": null,
   "id": "955dc6ed",
   "metadata": {},
   "outputs": [],
   "source": []
  },
  {
   "cell_type": "code",
   "execution_count": null,
   "id": "1fa8cd77",
   "metadata": {},
   "outputs": [],
   "source": []
  },
  {
   "cell_type": "code",
   "execution_count": null,
   "id": "8cd5e0cd",
   "metadata": {},
   "outputs": [],
   "source": []
  },
  {
   "cell_type": "code",
   "execution_count": null,
   "id": "55af3cf6",
   "metadata": {},
   "outputs": [],
   "source": []
  },
  {
   "cell_type": "code",
   "execution_count": null,
   "id": "973183bc",
   "metadata": {},
   "outputs": [],
   "source": []
  },
  {
   "cell_type": "code",
   "execution_count": null,
   "id": "f6aa2a0b",
   "metadata": {},
   "outputs": [],
   "source": []
  },
  {
   "cell_type": "code",
   "execution_count": null,
   "id": "165d3bdb",
   "metadata": {},
   "outputs": [],
   "source": []
  }
 ],
 "metadata": {
  "kernelspec": {
   "display_name": "Python 3 (ipykernel)",
   "language": "python",
   "name": "python3"
  },
  "language_info": {
   "codemirror_mode": {
    "name": "ipython",
    "version": 3
   },
   "file_extension": ".py",
   "mimetype": "text/x-python",
   "name": "python",
   "nbconvert_exporter": "python",
   "pygments_lexer": "ipython3",
   "version": "3.9.7"
  }
 },
 "nbformat": 4,
 "nbformat_minor": 5
}
